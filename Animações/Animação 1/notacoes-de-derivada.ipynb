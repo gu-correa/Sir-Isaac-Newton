{
 "cells": [
  {
   "cell_type": "code",
   "execution_count": null,
   "metadata": {},
   "outputs": [],
   "source": [
    "# Instalando dependências\n",
    "!sudo apt update\n",
    "!sudo apt install libcairo2-dev ffmpeg \\\n",
    "    texlive texlive-latex-extra texlive-fonts-extra \\\n",
    "    texlive-latex-recommended texlive-science \\\n",
    "    tipa libpango1.0-dev\n",
    "!pip install manim\n",
    "!pip install IPython==8.21.0"
   ]
  },
  {
   "cell_type": "code",
   "execution_count": 2,
   "metadata": {},
   "outputs": [],
   "source": [
    "from manim import * "
   ]
  },
  {
   "cell_type": "code",
   "execution_count": null,
   "metadata": {},
   "outputs": [],
   "source": [
    "%%manim -r 1080,1920 -qk -v WARNING --format mp4 notacoes_de_derivada\n",
    "\n",
    "class notacoes_de_derivada(Scene):\n",
    "    def construct(self):\n",
    "        # Definindo as variáveis\n",
    "        username = Text(\n",
    "            '@sir.inewton', \n",
    "            font_size=65, \n",
    "            fill_opacity=0.25\n",
    "        ).move_to(6.5*DOWN)\n",
    "\n",
    "        derivadas = [\n",
    "            MathTex(\n",
    "                \"\\\\lim_{h \\\\to 0}\",\n",
    "                \"\\\\frac{f(x+h)-f(x)}{h}\"\n",
    "            ).scale(2.5),\n",
    "            MathTex(\"f’(x)\").scale(5),\n",
    "            MathTex(\"\\dfrac{\\mathrm{d}f(x)}{\\mathrm{d}x}\").scale(4),\n",
    "            MathTex(\"\\dot f(x)\").scale(5),\n",
    "            MathTex(\"D_x f(x)\").scale(5)\n",
    "        ]\n",
    "\n",
    "        matematicos = ['Lagrange', 'Leibniz', 'Newton', 'Euler']\n",
    "\n",
    "        textos = [\n",
    "            Text(\n",
    "                'Derivada pela \\ndefinição de Limite', \n",
    "                font_size=92.5\n",
    "            ).set_color_by_gradient(LIGHT_PINK, RED).move_to(5*UP)\n",
    "        ]\n",
    "        textos.extend([Text(nome, font_size=140).set_color_by_gradient(LIGHT_PINK, RED).move_to(5*UP) for nome in matematicos])\n",
    "\n",
    "        # Cena inicial \n",
    "        self.play(Write(derivadas[0]), Write(textos[0]), FadeIn(username), run_time=2)\n",
    "        self.wait(2)\n",
    "\n",
    "        # Apresentando cada notação de derivada e seu respectivo matemático\n",
    "        for i in range(1,5):\n",
    "            self.play(Transform(derivadas[0], derivadas[i]), Transform(textos[0], textos[i]), run_time=1.75)\n",
    "            self.wait()\n",
    "\n",
    "        # Encerramento\n",
    "        self.play(FadeOut(derivadas[0]), FadeOut(textos[0]), FadeOut(username), run_time=2)\n"
   ]
  }
 ],
 "metadata": {
  "kernelspec": {
   "display_name": "Python 3",
   "language": "python",
   "name": "python3"
  },
  "language_info": {
   "codemirror_mode": {
    "name": "ipython",
    "version": 3
   },
   "file_extension": ".py",
   "mimetype": "text/x-python",
   "name": "python",
   "nbconvert_exporter": "python",
   "pygments_lexer": "ipython3",
   "version": "3.12.6"
  }
 },
 "nbformat": 4,
 "nbformat_minor": 2
}
