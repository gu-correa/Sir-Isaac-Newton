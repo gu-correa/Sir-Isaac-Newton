{
 "cells": [
  {
   "cell_type": "code",
   "execution_count": 1,
   "metadata": {},
   "outputs": [
    {
     "name": "stderr",
     "output_type": "stream",
     "text": [
      "'sudo' n�o � reconhecido como um comando interno\n",
      "ou externo, um programa oper�vel ou um arquivo em lotes.\n",
      "'sudo' n�o � reconhecido como um comando interno\n",
      "ou externo, um programa oper�vel ou um arquivo em lotes.\n"
     ]
    },
    {
     "name": "stdout",
     "output_type": "stream",
     "text": [
      "Collecting manim\n",
      "  Using cached manim-0.14.0-py3-none-any.whl.metadata (10 kB)\n",
      "Requirement already satisfied: Pillow in c:\\users\\gucor\\scoop\\apps\\python\\current\\lib\\site-packages (from manim) (11.0.0)\n",
      "Requirement already satisfied: click>=7.1 in c:\\users\\gucor\\scoop\\apps\\python\\current\\lib\\site-packages (from manim) (8.1.8)\n",
      "Collecting click-default-group (from manim)\n",
      "  Using cached click_default_group-1.2.4-py2.py3-none-any.whl.metadata (2.8 kB)\n",
      "Collecting cloup<0.8.0,>=0.7.0 (from manim)\n",
      "  Using cached cloup-0.7.1-py2.py3-none-any.whl.metadata (7.8 kB)\n",
      "Requirement already satisfied: colour in c:\\users\\gucor\\scoop\\apps\\python\\current\\lib\\site-packages (from manim) (0.1.5)\n",
      "Requirement already satisfied: decorator<6.0.0,>=5.0.7 in c:\\users\\gucor\\scoop\\apps\\python\\current\\lib\\site-packages (from manim) (5.1.1)\n",
      "Collecting isosurfaces==0.1.0 (from manim)\n",
      "  Using cached isosurfaces-0.1.0-py3-none-any.whl.metadata (2.9 kB)\n",
      "Collecting manimpango<0.5.0,>=0.4.0.post0 (from manim)\n",
      "  Using cached ManimPango-0.4.4.tar.gz (4.1 MB)\n",
      "  Installing build dependencies: started\n",
      "  Installing build dependencies: finished with status 'done'\n",
      "  Getting requirements to build wheel: started\n",
      "  Getting requirements to build wheel: finished with status 'error'\n"
     ]
    },
    {
     "name": "stderr",
     "output_type": "stream",
     "text": [
      "  error: subprocess-exited-with-error\n",
      "  \n",
      "  × Getting requirements to build wheel did not run successfully.\n",
      "  │ exit code: 1\n",
      "  ╰─> [21 lines of output]\n",
      "      Traceback (most recent call last):\n",
      "        File \"C:\\Users\\gucor\\scoop\\apps\\python\\current\\Lib\\site-packages\\pip\\_vendor\\pyproject_hooks\\_in_process\\_in_process.py\", line 353, in <module>\n",
      "          main()\n",
      "          ~~~~^^\n",
      "        File \"C:\\Users\\gucor\\scoop\\apps\\python\\current\\Lib\\site-packages\\pip\\_vendor\\pyproject_hooks\\_in_process\\_in_process.py\", line 335, in main\n",
      "          json_out['return_val'] = hook(**hook_input['kwargs'])\n",
      "                                   ~~~~^^^^^^^^^^^^^^^^^^^^^^^^\n",
      "        File \"C:\\Users\\gucor\\scoop\\apps\\python\\current\\Lib\\site-packages\\pip\\_vendor\\pyproject_hooks\\_in_process\\_in_process.py\", line 118, in get_requires_for_build_wheel\n",
      "          return hook(config_settings)\n",
      "        File \"C:\\Users\\gucor\\AppData\\Local\\Temp\\pip-build-env-h0k06nf_\\overlay\\Lib\\site-packages\\setuptools\\build_meta.py\", line 334, in get_requires_for_build_wheel\n",
      "          return self._get_build_requires(config_settings, requirements=[])\n",
      "                 ~~~~~~~~~~~~~~~~~~~~~~~~^^^^^^^^^^^^^^^^^^^^^^^^^^^^^^^^^^\n",
      "        File \"C:\\Users\\gucor\\AppData\\Local\\Temp\\pip-build-env-h0k06nf_\\overlay\\Lib\\site-packages\\setuptools\\build_meta.py\", line 304, in _get_build_requires\n",
      "          self.run_setup()\n",
      "          ~~~~~~~~~~~~~~^^\n",
      "        File \"C:\\Users\\gucor\\AppData\\Local\\Temp\\pip-build-env-h0k06nf_\\overlay\\Lib\\site-packages\\setuptools\\build_meta.py\", line 320, in run_setup\n",
      "          exec(code, locals())\n",
      "          ~~~~^^^^^^^^^^^^^^^^\n",
      "        File \"<string>\", line 42, in <module>\n",
      "        File \"<string>\", line 38, in get_version\n",
      "      KeyError: '__version__'\n",
      "      [end of output]\n",
      "  \n",
      "  note: This error originates from a subprocess, and is likely not a problem with pip.\n",
      "error: subprocess-exited-with-error\n",
      "\n",
      "× Getting requirements to build wheel did not run successfully.\n",
      "│ exit code: 1\n",
      "╰─> See above for output.\n",
      "\n",
      "note: This error originates from a subprocess, and is likely not a problem with pip.\n"
     ]
    },
    {
     "name": "stdout",
     "output_type": "stream",
     "text": [
      "Requirement already satisfied: IPython==8.21.0 in c:\\users\\gucor\\scoop\\apps\\python\\current\\lib\\site-packages (8.21.0)\n",
      "Requirement already satisfied: decorator in c:\\users\\gucor\\scoop\\apps\\python\\current\\lib\\site-packages (from IPython==8.21.0) (5.1.1)\n",
      "Requirement already satisfied: jedi>=0.16 in c:\\users\\gucor\\scoop\\apps\\python\\current\\lib\\site-packages (from IPython==8.21.0) (0.19.2)\n",
      "Requirement already satisfied: matplotlib-inline in c:\\users\\gucor\\scoop\\apps\\python\\current\\lib\\site-packages (from IPython==8.21.0) (0.1.7)\n",
      "Requirement already satisfied: prompt-toolkit<3.1.0,>=3.0.41 in c:\\users\\gucor\\scoop\\apps\\python\\current\\lib\\site-packages (from IPython==8.21.0) (3.0.48)\n",
      "Requirement already satisfied: pygments>=2.4.0 in c:\\users\\gucor\\scoop\\apps\\python\\current\\lib\\site-packages (from IPython==8.21.0) (2.18.0)\n",
      "Requirement already satisfied: stack-data in c:\\users\\gucor\\scoop\\apps\\python\\current\\lib\\site-packages (from IPython==8.21.0) (0.6.3)\n",
      "Requirement already satisfied: traitlets>=5 in c:\\users\\gucor\\scoop\\apps\\python\\current\\lib\\site-packages (from IPython==8.21.0) (5.14.3)\n",
      "Requirement already satisfied: colorama in c:\\users\\gucor\\scoop\\apps\\python\\current\\lib\\site-packages (from IPython==8.21.0) (0.4.6)\n",
      "Requirement already satisfied: parso<0.9.0,>=0.8.4 in c:\\users\\gucor\\scoop\\apps\\python\\current\\lib\\site-packages (from jedi>=0.16->IPython==8.21.0) (0.8.4)\n",
      "Requirement already satisfied: wcwidth in c:\\users\\gucor\\scoop\\apps\\python\\current\\lib\\site-packages (from prompt-toolkit<3.1.0,>=3.0.41->IPython==8.21.0) (0.2.13)\n",
      "Requirement already satisfied: executing>=1.2.0 in c:\\users\\gucor\\scoop\\apps\\python\\current\\lib\\site-packages (from stack-data->IPython==8.21.0) (2.1.0)\n",
      "Requirement already satisfied: asttokens>=2.1.0 in c:\\users\\gucor\\scoop\\apps\\python\\current\\lib\\site-packages (from stack-data->IPython==8.21.0) (2.4.1)\n",
      "Requirement already satisfied: pure-eval in c:\\users\\gucor\\scoop\\apps\\python\\current\\lib\\site-packages (from stack-data->IPython==8.21.0) (0.2.3)\n",
      "Requirement already satisfied: six>=1.12.0 in c:\\users\\gucor\\scoop\\apps\\python\\current\\lib\\site-packages (from asttokens>=2.1.0->stack-data->IPython==8.21.0) (1.16.0)\n"
     ]
    }
   ],
   "source": [
    "# Instalando dependências\n",
    "!sudo apt update\n",
    "!sudo apt install libcairo2-dev ffmpeg \\\n",
    "    texlive texlive-latex-extra texlive-fonts-extra \\\n",
    "    texlive-latex-recommended texlive-science \\\n",
    "    tipa libpango1.0-dev\n",
    "!pip install manim\n",
    "!pip install IPython==8.21.0"
   ]
  },
  {
   "cell_type": "code",
   "execution_count": 2,
   "metadata": {},
   "outputs": [],
   "source": [
    "from manim import * "
   ]
  },
  {
   "cell_type": "code",
   "execution_count": 3,
   "metadata": {},
   "outputs": [
    {
     "name": "stderr",
     "output_type": "stream",
     "text": [
      "<string>:17: SyntaxWarning: invalid escape sequence '\\d'\n",
      "<string>:18: SyntaxWarning: invalid escape sequence '\\d'\n"
     ]
    },
    {
     "data": {
      "text/html": [
       "<pre style=\"white-space:pre;overflow-x:auto;line-height:normal;font-family:Menlo,'DejaVu Sans Mono',consolas,'Courier New',monospace\">Manim Community <span style=\"color: #008000; text-decoration-color: #008000\">v0.18.1</span>\n",
       "\n",
       "</pre>\n"
      ],
      "text/plain": [
       "Manim Community \u001b[32mv0.\u001b[0m\u001b[32m18.1\u001b[0m\n",
       "\n"
      ]
     },
     "metadata": {},
     "output_type": "display_data"
    },
    {
     "name": "stderr",
     "output_type": "stream",
     "text": [
      "                                                                                                                                   \r"
     ]
    },
    {
     "data": {
      "text/html": [
       "<video src=\"media\\jupyter\\notacoes_de_derivada@2025-01-10@13-33-06.mp4\" controls autoplay loop style=\"max-width: 60%;\"  >\n",
       "      Your browser does not support the <code>video</code> element.\n",
       "    </video>"
      ],
      "text/plain": [
       "<IPython.core.display.Video object>"
      ]
     },
     "metadata": {},
     "output_type": "display_data"
    }
   ],
   "source": [
    "%%manim -r 1080,1920 -qk -v WARNING --format mp4 notacoes_de_derivada\n",
    "\n",
    "class notacoes_de_derivada(Scene):\n",
    "    def construct(self):\n",
    "        # Definindo as variáveis\n",
    "        username = Text(\n",
    "            '@sir.inewton', \n",
    "            font_size=65, \n",
    "            fill_opacity=0.25\n",
    "        ).move_to(6.5*DOWN)\n",
    "\n",
    "        derivadas = [\n",
    "            MathTex(\n",
    "                \"\\\\lim_{h \\\\to 0}\",\n",
    "                \"\\\\frac{f(x+h)-f(x)}{h}\"\n",
    "            ).scale(2.5),\n",
    "            MathTex(\"f’(x)\").scale(5),\n",
    "            MathTex(\"\\dfrac{\\mathrm{d}f(x)}{\\mathrm{d}x}\").scale(4),\n",
    "            MathTex(\"\\dot f(x)\").scale(5),\n",
    "            MathTex(\"D_x f(x)\").scale(5)\n",
    "        ]\n",
    "\n",
    "        matematicos = ['Lagrange', 'Leibniz', 'Newton', 'Euler']\n",
    "\n",
    "        textos = [\n",
    "            Text(\n",
    "                'Derivada pela \\ndefinição de Limite', \n",
    "                font_size=92.5\n",
    "            ).set_color_by_gradient(LIGHT_PINK, RED).move_to(5*UP)\n",
    "        ]\n",
    "        textos.extend([Text(nome, font_size=140).set_color_by_gradient(LIGHT_PINK, RED).move_to(5*UP) for nome in matematicos])\n",
    "\n",
    "        # Cena inicial \n",
    "        self.play(Write(derivadas[0]), Write(textos[0]), FadeIn(username), run_time=2)\n",
    "        self.wait(2)\n",
    "\n",
    "        # Apresentando cada notação de derivada e seu respectivo matemático\n",
    "        for i in range(1,5):\n",
    "            self.play(Transform(derivadas[0], derivadas[i]), Transform(textos[0], textos[i]), run_time=1.75)\n",
    "            self.wait()\n",
    "\n",
    "        # Encerramento\n",
    "        self.play(FadeOut(derivadas[0]), FadeOut(textos[0]), FadeOut(username), run_time=2)\n"
   ]
  }
 ],
 "metadata": {
  "kernelspec": {
   "display_name": "Python 3",
   "language": "python",
   "name": "python3"
  },
  "language_info": {
   "codemirror_mode": {
    "name": "ipython",
    "version": 3
   },
   "file_extension": ".py",
   "mimetype": "text/x-python",
   "name": "python",
   "nbconvert_exporter": "python",
   "pygments_lexer": "ipython3",
   "version": "3.12.6"
  }
 },
 "nbformat": 4,
 "nbformat_minor": 2
}
